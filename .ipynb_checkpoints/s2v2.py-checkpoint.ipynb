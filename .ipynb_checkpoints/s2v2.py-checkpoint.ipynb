{
 "cells": [
  {
   "cell_type": "code",
   "execution_count": null,
   "metadata": {
    "collapsed": true
   },
   "outputs": [],
   "source": [
    "from s2v1 import *\n",
    "\n",
    "def num_of_records(data_sample):\n",
    "    return len(data_sample)\n",
    "    \n",
    "number_of_ties = number_of_records(data_from_csv)\n",
    "\n",
    "#print(number_of_ties, \"ties in our data sample\")\n",
    "\n",
    "#might want to subtract 1 due to the first row being our headers. Counting the length of the list to find how many ties we have. \n",
    "\n",
    "def number_of_records2(data_sample):\n",
    "    return data_sample.size\n",
    "#we'll be working with the numpy data structure so this wont work with a nested list\n",
    "\n",
    "number_of_ties_my_csv = number_of_records2(my_csv)\n",
    "#print(number_of_ties_my_csv, \"ties in our data sample\")\n",
    "\n"
   ]
  }
 ],
 "metadata": {
  "kernelspec": {
   "display_name": "Python 3",
   "language": "python",
   "name": "python3"
  },
  "language_info": {
   "codemirror_mode": {
    "name": "ipython",
    "version": 3
   },
   "file_extension": ".py",
   "mimetype": "text/x-python",
   "name": "python",
   "nbconvert_exporter": "python",
   "pygments_lexer": "ipython3",
   "version": "3.6.1"
  }
 },
 "nbformat": 4,
 "nbformat_minor": 2
}
