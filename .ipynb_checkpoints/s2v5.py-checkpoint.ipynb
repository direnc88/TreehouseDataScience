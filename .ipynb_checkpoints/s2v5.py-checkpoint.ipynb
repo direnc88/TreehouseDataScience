{
 "cells": [
  {
   "cell_type": "code",
   "execution_count": null,
   "metadata": {
    "collapsed": true
   },
   "outputs": [],
   "source": [
    "from s2v4 import * \n",
    "\n",
    "#going to be doing some exploring of the max and min values\n",
    "def find_max(data_sample, col):\n",
    "    temp_list = []\n",
    "    for row in data_sample:\n",
    "        price = float(row[col])\n",
    "        templ_list.append(price)\n",
    "    return max(temp_list)\n",
    "\n",
    "\n",
    "def find_min(data_sample, col):\n",
    "    temp_list = []\n",
    "    for row in data_sample:\n",
    "        price = float(row[col])\n",
    "        templ_list.append(price)\n",
    "    return min(temp_list)\n",
    "\n",
    "print(find_max(data_from_csv[1:], 2))\n",
    "print(find_min(data_from_csv[1:], 2))\n",
    "\n",
    "#truncated function that finds max and min\n",
    "\n",
    "def find_max_min(data_sample, col, m = 'max'):\n",
    "    temp_list=[]\n",
    "    val = 0\n",
    "    for row in data_sample:\n",
    "        price = float(row[col])\n",
    "        temp_list.append(price)\n",
    "    if m ==\"max\":\n",
    "        val = max(temp_list)\n",
    "    elif m == \"min\":\n",
    "        val = min(temp_list)\n",
    "    else: #hopefully we don't come to this.\n",
    "        pass\n",
    "    return val\n",
    "\n",
    "#print(find_max_min(data_from_csv[1:], 2, 'min'))\n",
    "\n",
    "\n",
    "numpy_max = numpy.amax(price_in_float)\n",
    "\n",
    "price = my_csv[float(x) for x in price]\n",
    "numpy_max = numpy.amax(price_in_float)\n",
    "numpy_min = numpy.amin(price_in_float)\n",
    "#print(numpy_max)\n",
    "\n"
   ]
  }
 ],
 "metadata": {
  "kernelspec": {
   "display_name": "Python 3",
   "language": "python",
   "name": "python3"
  },
  "language_info": {
   "codemirror_mode": {
    "name": "ipython",
    "version": 3
   },
   "file_extension": ".py",
   "mimetype": "text/x-python",
   "name": "python",
   "nbconvert_exporter": "python",
   "pygments_lexer": "ipython3",
   "version": "3.6.1"
  }
 },
 "nbformat": 4,
 "nbformat_minor": 2
}
