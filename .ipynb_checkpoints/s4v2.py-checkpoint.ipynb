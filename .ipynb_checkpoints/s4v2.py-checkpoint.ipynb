{
 "cells": [
  {
   "cell_type": "code",
   "execution_count": null,
   "metadata": {
    "collapsed": true
   },
   "outputs": [],
   "source": [
    "from s4v1 import * \n",
    "\n",
    "def_write_brand_and_price_file(filename, data_sample):\n",
    "    brand_field_index = 5\n",
    "    price_field_index = 2\n",
    "    \n",
    "    new_array = []\n",
    "    for record in data_sample\n",
    "        new_record = [None] * 2\n",
    "        new_record[0] = record[brand_field_index]\n",
    "        new_record[1] = record[price_field_index]\n",
    "        new_array.append(new_record)\n",
    "        \n",
    "    write_to_file(filename, new_array)\n",
    "    \n",
    "write_brand_and_price_file('_data/s4-brand_and_price.csv', gucci_ties)\n",
    "\n",
    "def write_min_max_csv(filename, data_sample):\n",
    "    min = find_max_min(data_sample, 2, \"min\")\n",
    "    max = find_max_min(data_sample, 2, \"max\")\n",
    "    \n",
    "    new_array = []\n",
    "    for record in data_sample:\n",
    "        if (float(record[2]) == min) or (float(record[2]) == max):\n",
    "            new_array.append(record)\n",
    "    write_to_file(filename, new_array)\n",
    "    \n",
    "write_min_max_csv('data/s4-min_max_csv')\n",
    "\n",
    "def write_two_cols(filename, data_sample, col1, col2):\n",
    "    new_array = []\n",
    "    for record in data_sample:\n",
    "        new_record = [None] * 2\n",
    "        new_record[0] = record[col1]\n",
    "        new_record[1] = record[col2]\n",
    "        \n",
    "    write_to_file(filename, new_array)\n",
    "    \n",
    "write_two_cols('_data/s4-write_two_cols.csv', gucci_ties[1:], 3, 7)"
   ]
  }
 ],
 "metadata": {
  "kernelspec": {
   "display_name": "Python 3",
   "language": "python",
   "name": "python3"
  },
  "language_info": {
   "codemirror_mode": {
    "name": "ipython",
    "version": 3
   },
   "file_extension": ".py",
   "mimetype": "text/x-python",
   "name": "python",
   "nbconvert_exporter": "python",
   "pygments_lexer": "ipython3",
   "version": "3.6.1"
  }
 },
 "nbformat": 4,
 "nbformat_minor": 2
}
